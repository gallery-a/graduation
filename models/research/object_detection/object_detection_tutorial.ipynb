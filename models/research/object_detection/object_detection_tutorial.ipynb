{
 "cells": [
  {
   "cell_type": "markdown",
   "metadata": {
    "colab_type": "text",
    "id": "V8-yl-s-WKMG"
   },
   "source": [
    "# Object Detection API Demo\n",
    "\n",
    "<table align=\"left\"><td>\n",
    "  <a target=\"_blank\"  href=\"https://github.com/tensorflow/models/blob/master/research/object_detection/object_detection_tutorial.ipynb\">\n",
    "    <img src=\"https://www.tensorflow.org/images/colab_logo_32px.png\" />Run in Google Colab\n",
    "  </a>\n",
    "</td><td>\n",
    "  <a target=\"_blank\"  href=\"https://colab.sandbox.google.com/github/tensorflow/models/blob/master/research/object_detection/object_detection_tutorial.ipynb\">\n",
    "    <img width=32px src=\"https://www.tensorflow.org/images/GitHub-Mark-32px.png\" />View source on GitHub</a>\n",
    "</td></table>"
   ]
  },
  {
   "cell_type": "markdown",
   "metadata": {
    "colab_type": "text",
    "id": "3cIrseUv6WKz"
   },
   "source": [
    "Welcome to the [Object Detection API](https://github.com/tensorflow/models/tree/master/research/object_detection). This notebook will walk you step by step through the process of using a pre-trained model to detect objects in an image."
   ]
  },
  {
   "cell_type": "markdown",
   "metadata": {
    "colab_type": "text",
    "id": "VrJaG0cYN9yh"
   },
   "source": [
    "> **Important**: This tutorial is to help you through the first step towards using [Object Detection API](https://github.com/tensorflow/models/tree/master/research/object_detection) to build models. If you just just need an off the shelf model that does the job, see the [TFHub object detection example](https://colab.sandbox.google.com/github/tensorflow/hub/blob/master/examples/colab/object_detection.ipynb)."
   ]
  },
  {
   "cell_type": "markdown",
   "metadata": {
    "colab_type": "text",
    "id": "kFSqkTCdWKMI"
   },
   "source": [
    "# Setup"
   ]
  },
  {
   "cell_type": "markdown",
   "metadata": {
    "colab_type": "text",
    "id": "awjrpqy-6MaQ"
   },
   "source": [
    "Important: If you're running on a local machine, be sure to follow the [installation instructions](https://github.com/tensorflow/models/blob/master/research/object_detection/g3doc/installation.md). This notebook includes only what's necessary to run in Colab."
   ]
  },
  {
   "cell_type": "markdown",
   "metadata": {
    "colab_type": "text",
    "id": "p3UGXxUii5Ym"
   },
   "source": [
    "### Install"
   ]
  },
  {
   "cell_type": "code",
   "execution_count": 0,
   "metadata": {
    "colab": {},
    "colab_type": "code",
    "id": "hGL97-GXjSUw"
   },
   "outputs": [],
   "source": [
    "!pip install -U --pre tensorflow==\"2.*\""
   ]
  },
  {
   "cell_type": "markdown",
   "metadata": {
    "colab_type": "text",
    "id": "n_ap_s9ajTHH"
   },
   "source": [
    "Make sure you have `pycocotools` installed"
   ]
  },
  {
   "cell_type": "code",
   "execution_count": 0,
   "metadata": {
    "colab": {},
    "colab_type": "code",
    "id": "Bg8ZyA47i3pY"
   },
   "outputs": [],
   "source": [
    "!pip install pycocotools"
   ]
  },
  {
   "cell_type": "markdown",
   "metadata": {
    "colab_type": "text",
    "id": "-vsOL3QR6kqs"
   },
   "source": [
    "Get `tensorflow/models` or `cd` to parent directory of the repository."
   ]
  },
  {
   "cell_type": "code",
   "execution_count": 0,
   "metadata": {
    "colab": {},
    "colab_type": "code",
    "id": "ykA0c-om51s1"
   },
   "outputs": [],
   "source": [
    "import os\n",
    "import pathlib\n",
    "\n",
    "\n",
    "if \"models\" in pathlib.Path.cwd().parts:\n",
    "  while \"models\" in pathlib.Path.cwd().parts:\n",
    "    os.chdir('..')\n",
    "elif not pathlib.Path('models').exists():\n",
    "  !git clone --depth 1 https://github.com/tensorflow/models"
   ]
  },
  {
   "cell_type": "markdown",
   "metadata": {
    "colab_type": "text",
    "id": "O219m6yWAj9l"
   },
   "source": [
    "Compile protobufs and install the object_detection package"
   ]
  },
  {
   "cell_type": "code",
   "execution_count": 0,
   "metadata": {
    "colab": {},
    "colab_type": "code",
    "id": "PY41vdYYNlXc"
   },
   "outputs": [],
   "source": [
    "%%bash\n",
    "cd models/research/\n",
    "protoc object_detection/protos/*.proto --python_out=."
   ]
  },
  {
   "cell_type": "code",
   "execution_count": 0,
   "metadata": {
    "colab": {},
    "colab_type": "code",
    "id": "s62yJyQUcYbp"
   },
   "outputs": [],
   "source": [
    "%%bash \n",
    "cd models/research\n",
    "pip install ."
   ]
  },
  {
   "cell_type": "markdown",
   "metadata": {
    "colab_type": "text",
    "id": "LBdjK2G5ywuc"
   },
   "source": [
    "### Imports"
   ]
  },
  {
   "cell_type": "code",
   "execution_count": 8,
   "metadata": {
    "colab": {},
    "colab_type": "code",
    "id": "hV4P5gyTWKMI"
   },
   "outputs": [],
   "source": [
    "import numpy as np\n",
    "import os\n",
    "import six.moves.urllib as urllib\n",
    "import sys\n",
    "import tarfile\n",
    "import tensorflow as tf\n",
    "import zipfile\n",
    "import os\n",
    "import pathlib\n",
    "from collections import defaultdict\n",
    "from io import StringIO\n",
    "from matplotlib import pyplot as plt\n",
    "from PIL import Image\n",
    "from IPython.display import display"
   ]
  },
  {
   "cell_type": "markdown",
   "metadata": {
    "colab_type": "text",
    "id": "r5FNuiRPWKMN"
   },
   "source": [
    "Import the object detection module."
   ]
  },
  {
   "cell_type": "code",
   "execution_count": 2,
   "metadata": {
    "colab": {},
    "colab_type": "code",
    "id": "4-IMl4b6BdGO"
   },
   "outputs": [
    {
     "name": "stderr",
     "output_type": "stream",
     "text": [
      "/root/workspace/models/research/object_detection/utils/visualization_utils.py:29: UserWarning: \n",
      "This call to matplotlib.use() has no effect because the backend has already\n",
      "been chosen; matplotlib.use() must be called *before* pylab, matplotlib.pyplot,\n",
      "or matplotlib.backends is imported for the first time.\n",
      "\n",
      "The backend was *originally* set to 'module://ipykernel.pylab.backend_inline' by the following code:\n",
      "  File \"/usr/lib/python3.6/runpy.py\", line 193, in _run_module_as_main\n",
      "    \"__main__\", mod_spec)\n",
      "  File \"/usr/lib/python3.6/runpy.py\", line 85, in _run_code\n",
      "    exec(code, run_globals)\n",
      "  File \"/usr/local/lib/python3.6/dist-packages/ipykernel_launcher.py\", line 16, in <module>\n",
      "    app.launch_new_instance()\n",
      "  File \"/usr/local/lib/python3.6/dist-packages/traitlets/config/application.py\", line 664, in launch_instance\n",
      "    app.start()\n",
      "  File \"/usr/local/lib/python3.6/dist-packages/ipykernel/kernelapp.py\", line 563, in start\n",
      "    self.io_loop.start()\n",
      "  File \"/usr/local/lib/python3.6/dist-packages/tornado/platform/asyncio.py\", line 148, in start\n",
      "    self.asyncio_loop.run_forever()\n",
      "  File \"/usr/lib/python3.6/asyncio/base_events.py\", line 422, in run_forever\n",
      "    self._run_once()\n",
      "  File \"/usr/lib/python3.6/asyncio/base_events.py\", line 1434, in _run_once\n",
      "    handle._run()\n",
      "  File \"/usr/lib/python3.6/asyncio/events.py\", line 145, in _run\n",
      "    self._callback(*self._args)\n",
      "  File \"/usr/local/lib/python3.6/dist-packages/tornado/ioloop.py\", line 690, in <lambda>\n",
      "    lambda f: self._run_callback(functools.partial(callback, future))\n",
      "  File \"/usr/local/lib/python3.6/dist-packages/tornado/ioloop.py\", line 743, in _run_callback\n",
      "    ret = callback()\n",
      "  File \"/usr/local/lib/python3.6/dist-packages/tornado/gen.py\", line 787, in inner\n",
      "    self.run()\n",
      "  File \"/usr/local/lib/python3.6/dist-packages/tornado/gen.py\", line 748, in run\n",
      "    yielded = self.gen.send(value)\n",
      "  File \"/usr/local/lib/python3.6/dist-packages/ipykernel/kernelbase.py\", line 361, in process_one\n",
      "    yield gen.maybe_future(dispatch(*args))\n",
      "  File \"/usr/local/lib/python3.6/dist-packages/tornado/gen.py\", line 209, in wrapper\n",
      "    yielded = next(result)\n",
      "  File \"/usr/local/lib/python3.6/dist-packages/ipykernel/kernelbase.py\", line 268, in dispatch_shell\n",
      "    yield gen.maybe_future(handler(stream, idents, msg))\n",
      "  File \"/usr/local/lib/python3.6/dist-packages/tornado/gen.py\", line 209, in wrapper\n",
      "    yielded = next(result)\n",
      "  File \"/usr/local/lib/python3.6/dist-packages/ipykernel/kernelbase.py\", line 541, in execute_request\n",
      "    user_expressions, allow_stdin,\n",
      "  File \"/usr/local/lib/python3.6/dist-packages/tornado/gen.py\", line 209, in wrapper\n",
      "    yielded = next(result)\n",
      "  File \"/usr/local/lib/python3.6/dist-packages/ipykernel/ipkernel.py\", line 300, in do_execute\n",
      "    res = shell.run_cell(code, store_history=store_history, silent=silent)\n",
      "  File \"/usr/local/lib/python3.6/dist-packages/ipykernel/zmqshell.py\", line 536, in run_cell\n",
      "    return super(ZMQInteractiveShell, self).run_cell(*args, **kwargs)\n",
      "  File \"/usr/local/lib/python3.6/dist-packages/IPython/core/interactiveshell.py\", line 2852, in run_cell\n",
      "    self.events.trigger('post_run_cell', result)\n",
      "  File \"/usr/local/lib/python3.6/dist-packages/IPython/core/events.py\", line 88, in trigger\n",
      "    func(*args, **kwargs)\n",
      "  File \"/usr/local/lib/python3.6/dist-packages/ipykernel/pylab/backend_inline.py\", line 164, in configure_once\n",
      "    activate_matplotlib(backend)\n",
      "  File \"/usr/local/lib/python3.6/dist-packages/IPython/core/pylabtools.py\", line 318, in activate_matplotlib\n",
      "    plt.switch_backend(backend)\n",
      "  File \"/usr/local/lib/python3.6/dist-packages/matplotlib/pyplot.py\", line 231, in switch_backend\n",
      "    matplotlib.use(newbackend, warn=False, force=True)\n",
      "  File \"/usr/local/lib/python3.6/dist-packages/matplotlib/__init__.py\", line 1410, in use\n",
      "    reload(sys.modules['matplotlib.backends'])\n",
      "  File \"/usr/lib/python3.6/importlib/__init__.py\", line 166, in reload\n",
      "    _bootstrap._exec(spec, module)\n",
      "  File \"/usr/local/lib/python3.6/dist-packages/matplotlib/backends/__init__.py\", line 16, in <module>\n",
      "    line for line in traceback.format_stack()\n",
      "\n",
      "\n",
      "  import matplotlib; matplotlib.use('Agg')  # pylint: disable=multiple-statements\n"
     ]
    }
   ],
   "source": [
    "from object_detection.utils import ops as utils_ops\n",
    "from object_detection.utils import label_map_util\n",
    "from object_detection.utils import visualization_utils as vis_util"
   ]
  },
  {
   "cell_type": "markdown",
   "metadata": {
    "colab_type": "text",
    "id": "RYPCiag2iz_q"
   },
   "source": [
    "Patches:"
   ]
  },
  {
   "cell_type": "code",
   "execution_count": 0,
   "metadata": {
    "colab": {},
    "colab_type": "code",
    "id": "mF-YlMl8c_bM"
   },
   "outputs": [],
   "source": [
    "# patch tf1 into `utils.ops`\n",
    "utils_ops.tf = tf.compat.v1\n",
    "\n",
    "# Patch the location of gfile\n",
    "tf.gfile = tf.io.gfile"
   ]
  },
  {
   "cell_type": "code",
   "execution_count": 3,
   "metadata": {},
   "outputs": [],
   "source": [
    "import os\n",
    "os.environ[\"CUDA_VISIBLE_DEVICES\"] = \"2\""
   ]
  },
  {
   "cell_type": "markdown",
   "metadata": {
    "colab_type": "text",
    "id": "cfn_tRFOWKMO"
   },
   "source": [
    "# Model preparation "
   ]
  },
  {
   "cell_type": "markdown",
   "metadata": {
    "colab_type": "text",
    "id": "X_sEBLpVWKMQ"
   },
   "source": [
    "## Variables\n",
    "\n",
    "Any model exported using the `export_inference_graph.py` tool can be loaded here simply by changing the path.\n",
    "\n",
    "By default we use an \"SSD with Mobilenet\" model here. See the [detection model zoo](https://github.com/tensorflow/models/blob/master/research/object_detection/g3doc/detection_model_zoo.md) for a list of other models that can be run out-of-the-box with varying speeds and accuracies."
   ]
  },
  {
   "cell_type": "markdown",
   "metadata": {
    "colab_type": "text",
    "id": "7ai8pLZZWKMS"
   },
   "source": [
    "## Loader"
   ]
  },
  {
   "cell_type": "code",
   "execution_count": 4,
   "metadata": {
    "colab": {},
    "colab_type": "code",
    "id": "zm8xp-0eoItE"
   },
   "outputs": [],
   "source": [
    "def load_model(model_name):\n",
    "  base_url = 'http://download.tensorflow.org/models/object_detection/'\n",
    "  model_file = model_name + '.tar.gz'\n",
    "  model_dir = tf.keras.utils.get_file(\n",
    "    fname=model_name, \n",
    "    origin=base_url + model_file,\n",
    "    untar=True)\n",
    "  \n",
    "  model_dir = \"/root/workspace/models/research/object_detection/output/models/faster_rcnn1222\"#pathlib.Path(model_dir)/\"saved_model\"\n",
    "\n",
    "  model = tf.saved_model.load(str(model_dir))\n",
    "  model = model.signatures['serving_default']\n",
    "\n",
    "  return model"
   ]
  },
  {
   "cell_type": "markdown",
   "metadata": {
    "colab_type": "text",
    "id": "_1MVVTcLWKMW"
   },
   "source": [
    "## Loading label map\n",
    "Label maps map indices to category names, so that when our convolution network predicts `5`, we know that this corresponds to `airplane`.  Here we use internal utility functions, but anything that returns a dictionary mapping integers to appropriate string labels would be fine"
   ]
  },
  {
   "cell_type": "code",
   "execution_count": 6,
   "metadata": {
    "colab": {},
    "colab_type": "code",
    "id": "hDbpHkiWWKMX"
   },
   "outputs": [],
   "source": [
    "# List of the strings that is used to add correct label for each box.\n",
    "PATH_TO_LABELS = '/root/workspace/models/research/object_detection/data/pascal_label_map_xuelang.pbtxt'\n",
    "category_index = label_map_util.create_category_index_from_labelmap(PATH_TO_LABELS, use_display_name=True)"
   ]
  },
  {
   "cell_type": "markdown",
   "metadata": {
    "colab_type": "text",
    "id": "oVU3U_J6IJVb"
   },
   "source": [
    "For the sake of simplicity we will test on 2 images:"
   ]
  },
  {
   "cell_type": "code",
   "execution_count": 9,
   "metadata": {
    "colab": {},
    "colab_type": "code",
    "id": "jG-zn5ykWKMd"
   },
   "outputs": [
    {
     "data": {
      "text/plain": [
       "[PosixPath('/root/workspace/Cascade-RCNN_Tensorflow/data/xuelang/testJPEGImages/J01_2018.06.13 13_31_01.jpg'),\n",
       " PosixPath('/root/workspace/Cascade-RCNN_Tensorflow/data/xuelang/testJPEGImages/J01_2018.06.13 13_48_07.jpg'),\n",
       " PosixPath('/root/workspace/Cascade-RCNN_Tensorflow/data/xuelang/testJPEGImages/J01_2018.06.13 13_52_56.jpg'),\n",
       " PosixPath('/root/workspace/Cascade-RCNN_Tensorflow/data/xuelang/testJPEGImages/J01_2018.06.13 13_53_54.jpg'),\n",
       " PosixPath('/root/workspace/Cascade-RCNN_Tensorflow/data/xuelang/testJPEGImages/J01_2018.06.13 13_58_14.jpg'),\n",
       " PosixPath('/root/workspace/Cascade-RCNN_Tensorflow/data/xuelang/testJPEGImages/J01_2018.06.13 14_10_24.jpg'),\n",
       " PosixPath('/root/workspace/Cascade-RCNN_Tensorflow/data/xuelang/testJPEGImages/J01_2018.06.13 14_41_19.jpg'),\n",
       " PosixPath('/root/workspace/Cascade-RCNN_Tensorflow/data/xuelang/testJPEGImages/J01_2018.06.16 09_08_48.jpg'),\n",
       " PosixPath('/root/workspace/Cascade-RCNN_Tensorflow/data/xuelang/testJPEGImages/J01_2018.06.16 09_47_17.jpg'),\n",
       " PosixPath('/root/workspace/Cascade-RCNN_Tensorflow/data/xuelang/testJPEGImages/J01_2018.06.16 09_49_21.jpg'),\n",
       " PosixPath('/root/workspace/Cascade-RCNN_Tensorflow/data/xuelang/testJPEGImages/J01_2018.06.16 10_20_43.jpg'),\n",
       " PosixPath('/root/workspace/Cascade-RCNN_Tensorflow/data/xuelang/testJPEGImages/J01_2018.06.16 10_47_41.jpg'),\n",
       " PosixPath('/root/workspace/Cascade-RCNN_Tensorflow/data/xuelang/testJPEGImages/J01_2018.06.17 09_11_04.jpg'),\n",
       " PosixPath('/root/workspace/Cascade-RCNN_Tensorflow/data/xuelang/testJPEGImages/J01_2018.06.17 09_12_53.jpg'),\n",
       " PosixPath('/root/workspace/Cascade-RCNN_Tensorflow/data/xuelang/testJPEGImages/J01_2018.06.17 09_13_36.jpg'),\n",
       " PosixPath('/root/workspace/Cascade-RCNN_Tensorflow/data/xuelang/testJPEGImages/J01_2018.06.17 10_13_00.jpg'),\n",
       " PosixPath('/root/workspace/Cascade-RCNN_Tensorflow/data/xuelang/testJPEGImages/J01_2018.06.17 10_27_00.jpg'),\n",
       " PosixPath('/root/workspace/Cascade-RCNN_Tensorflow/data/xuelang/testJPEGImages/J01_2018.06.17 13_33_05.jpg'),\n",
       " PosixPath('/root/workspace/Cascade-RCNN_Tensorflow/data/xuelang/testJPEGImages/J01_2018.06.17 14_19_24.jpg'),\n",
       " PosixPath('/root/workspace/Cascade-RCNN_Tensorflow/data/xuelang/testJPEGImages/J01_2018.06.17 14_19_32.jpg'),\n",
       " PosixPath('/root/workspace/Cascade-RCNN_Tensorflow/data/xuelang/testJPEGImages/J01_2018.06.17 14_39_12.jpg'),\n",
       " PosixPath('/root/workspace/Cascade-RCNN_Tensorflow/data/xuelang/testJPEGImages/J01_2018.06.17 15_11_07.jpg'),\n",
       " PosixPath('/root/workspace/Cascade-RCNN_Tensorflow/data/xuelang/testJPEGImages/J01_2018.06.17 15_52_19.jpg'),\n",
       " PosixPath('/root/workspace/Cascade-RCNN_Tensorflow/data/xuelang/testJPEGImages/J01_2018.06.17 15_53_18.jpg'),\n",
       " PosixPath('/root/workspace/Cascade-RCNN_Tensorflow/data/xuelang/testJPEGImages/J01_2018.06.19 08_56_18.jpg'),\n",
       " PosixPath('/root/workspace/Cascade-RCNN_Tensorflow/data/xuelang/testJPEGImages/J01_2018.06.19 09_06_26.jpg'),\n",
       " PosixPath('/root/workspace/Cascade-RCNN_Tensorflow/data/xuelang/testJPEGImages/J01_2018.06.19 09_10_55.jpg'),\n",
       " PosixPath('/root/workspace/Cascade-RCNN_Tensorflow/data/xuelang/testJPEGImages/J01_2018.06.19 10_05_24.jpg'),\n",
       " PosixPath('/root/workspace/Cascade-RCNN_Tensorflow/data/xuelang/testJPEGImages/J01_2018.06.19 13_46_18.jpg'),\n",
       " PosixPath('/root/workspace/Cascade-RCNN_Tensorflow/data/xuelang/testJPEGImages/J01_2018.06.19 14_20_23.jpg'),\n",
       " PosixPath('/root/workspace/Cascade-RCNN_Tensorflow/data/xuelang/testJPEGImages/J01_2018.06.19 14_26_40.jpg'),\n",
       " PosixPath('/root/workspace/Cascade-RCNN_Tensorflow/data/xuelang/testJPEGImages/J01_2018.06.19 14_58_10.jpg'),\n",
       " PosixPath('/root/workspace/Cascade-RCNN_Tensorflow/data/xuelang/testJPEGImages/J01_2018.06.19 15_36_52.jpg'),\n",
       " PosixPath('/root/workspace/Cascade-RCNN_Tensorflow/data/xuelang/testJPEGImages/J01_2018.06.20 14_18_21.jpg'),\n",
       " PosixPath('/root/workspace/Cascade-RCNN_Tensorflow/data/xuelang/testJPEGImages/J01_2018.06.20 14_23_36.jpg'),\n",
       " PosixPath('/root/workspace/Cascade-RCNN_Tensorflow/data/xuelang/testJPEGImages/J01_2018.06.20 14_26_09.jpg'),\n",
       " PosixPath('/root/workspace/Cascade-RCNN_Tensorflow/data/xuelang/testJPEGImages/J01_2018.06.20 15_04_34.jpg'),\n",
       " PosixPath('/root/workspace/Cascade-RCNN_Tensorflow/data/xuelang/testJPEGImages/J01_2018.06.20 15_24_26.jpg'),\n",
       " PosixPath('/root/workspace/Cascade-RCNN_Tensorflow/data/xuelang/testJPEGImages/J01_2018.06.20 15_34_17.jpg'),\n",
       " PosixPath('/root/workspace/Cascade-RCNN_Tensorflow/data/xuelang/testJPEGImages/J01_2018.06.22 13_57_26.jpg'),\n",
       " PosixPath('/root/workspace/Cascade-RCNN_Tensorflow/data/xuelang/testJPEGImages/J01_2018.06.22 14_42_11.jpg'),\n",
       " PosixPath('/root/workspace/Cascade-RCNN_Tensorflow/data/xuelang/testJPEGImages/J01_2018.06.22 15_14_59.jpg'),\n",
       " PosixPath('/root/workspace/Cascade-RCNN_Tensorflow/data/xuelang/testJPEGImages/J01_2018.06.23 08_58_06.jpg'),\n",
       " PosixPath('/root/workspace/Cascade-RCNN_Tensorflow/data/xuelang/testJPEGImages/J01_2018.06.23 09_16_50.jpg'),\n",
       " PosixPath('/root/workspace/Cascade-RCNN_Tensorflow/data/xuelang/testJPEGImages/J01_2018.06.23 10_18_31.jpg'),\n",
       " PosixPath('/root/workspace/Cascade-RCNN_Tensorflow/data/xuelang/testJPEGImages/J01_2018.06.23 10_20_10.jpg'),\n",
       " PosixPath('/root/workspace/Cascade-RCNN_Tensorflow/data/xuelang/testJPEGImages/J01_2018.06.23 10_43_23.jpg'),\n",
       " PosixPath('/root/workspace/Cascade-RCNN_Tensorflow/data/xuelang/testJPEGImages/J01_2018.06.25 13_40_29.jpg'),\n",
       " PosixPath('/root/workspace/Cascade-RCNN_Tensorflow/data/xuelang/testJPEGImages/J01_2018.06.25 14_16_49.jpg'),\n",
       " PosixPath('/root/workspace/Cascade-RCNN_Tensorflow/data/xuelang/testJPEGImages/J01_2018.06.25 14_36_14.jpg'),\n",
       " PosixPath('/root/workspace/Cascade-RCNN_Tensorflow/data/xuelang/testJPEGImages/J01_2018.06.25 14_53_38.jpg'),\n",
       " PosixPath('/root/workspace/Cascade-RCNN_Tensorflow/data/xuelang/testJPEGImages/J01_2018.06.25 15_07_45.jpg'),\n",
       " PosixPath('/root/workspace/Cascade-RCNN_Tensorflow/data/xuelang/testJPEGImages/J01_2018.06.25 15_16_09.jpg'),\n",
       " PosixPath('/root/workspace/Cascade-RCNN_Tensorflow/data/xuelang/testJPEGImages/J01_2018.06.26 08_59_21.jpg'),\n",
       " PosixPath('/root/workspace/Cascade-RCNN_Tensorflow/data/xuelang/testJPEGImages/J01_2018.06.26 10_18_23.jpg'),\n",
       " PosixPath('/root/workspace/Cascade-RCNN_Tensorflow/data/xuelang/testJPEGImages/J01_2018.06.26 13_24_39.jpg'),\n",
       " PosixPath('/root/workspace/Cascade-RCNN_Tensorflow/data/xuelang/testJPEGImages/J01_2018.06.26 13_41_06.jpg'),\n",
       " PosixPath('/root/workspace/Cascade-RCNN_Tensorflow/data/xuelang/testJPEGImages/J01_2018.06.26 14_07_03.jpg'),\n",
       " PosixPath('/root/workspace/Cascade-RCNN_Tensorflow/data/xuelang/testJPEGImages/J01_2018.06.26 14_50_04.jpg'),\n",
       " PosixPath('/root/workspace/Cascade-RCNN_Tensorflow/data/xuelang/testJPEGImages/J01_2018.06.26 15_59_31.jpg'),\n",
       " PosixPath('/root/workspace/Cascade-RCNN_Tensorflow/data/xuelang/testJPEGImages/J01_2018.06.27 08_42_14.jpg'),\n",
       " PosixPath('/root/workspace/Cascade-RCNN_Tensorflow/data/xuelang/testJPEGImages/J01_2018.06.27 09_08_23.jpg'),\n",
       " PosixPath('/root/workspace/Cascade-RCNN_Tensorflow/data/xuelang/testJPEGImages/J01_2018.06.27 09_52_05.jpg'),\n",
       " PosixPath('/root/workspace/Cascade-RCNN_Tensorflow/data/xuelang/testJPEGImages/J01_2018.06.27 13_30_56.jpg'),\n",
       " PosixPath('/root/workspace/Cascade-RCNN_Tensorflow/data/xuelang/testJPEGImages/J01_2018.06.27 13_39_14.jpg'),\n",
       " PosixPath('/root/workspace/Cascade-RCNN_Tensorflow/data/xuelang/testJPEGImages/J01_2018.06.27 13_41_04.jpg'),\n",
       " PosixPath('/root/workspace/Cascade-RCNN_Tensorflow/data/xuelang/testJPEGImages/J01_2018.06.27 14_56_26.jpg'),\n",
       " PosixPath('/root/workspace/Cascade-RCNN_Tensorflow/data/xuelang/testJPEGImages/J01_2018.06.28 13_24_41.jpg'),\n",
       " PosixPath('/root/workspace/Cascade-RCNN_Tensorflow/data/xuelang/testJPEGImages/J01_2018.06.28 13_30_06.jpg'),\n",
       " PosixPath('/root/workspace/Cascade-RCNN_Tensorflow/data/xuelang/testJPEGImages/J01_2018.06.28 13_40_47.jpg'),\n",
       " PosixPath('/root/workspace/Cascade-RCNN_Tensorflow/data/xuelang/testJPEGImages/J01_2018.06.28 15_23_27.jpg')]"
      ]
     },
     "execution_count": 9,
     "metadata": {},
     "output_type": "execute_result"
    }
   ],
   "source": [
    "# If you want to test the code with your images, just add path to the images to the TEST_IMAGE_PATHS.\n",
    "PATH_TO_TEST_IMAGES_DIR = pathlib.Path('/root/workspace/Cascade-RCNN_Tensorflow/data/xuelang/testJPEGImages')\n",
    "TEST_IMAGE_PATHS = sorted(list(PATH_TO_TEST_IMAGES_DIR.glob(\"*.jpg\")))\n",
    "TEST_IMAGE_PATHS"
   ]
  },
  {
   "cell_type": "markdown",
   "metadata": {
    "colab_type": "text",
    "id": "H0_1AGhrWKMc"
   },
   "source": [
    "# Detection"
   ]
  },
  {
   "cell_type": "markdown",
   "metadata": {
    "colab_type": "text",
    "id": "f7aOtOlebK7h"
   },
   "source": [
    "Load an object detection model:"
   ]
  },
  {
   "cell_type": "code",
   "execution_count": 10,
   "metadata": {
    "colab": {},
    "colab_type": "code",
    "id": "1XNT0wxybKR6"
   },
   "outputs": [
    {
     "ename": "TypeError",
     "evalue": "load() missing 2 required positional arguments: 'tags' and 'export_dir'",
     "output_type": "error",
     "traceback": [
      "\u001b[0;31m---------------------------------------------------------------------------\u001b[0m",
      "\u001b[0;31mTypeError\u001b[0m                                 Traceback (most recent call last)",
      "\u001b[0;32m<ipython-input-10-e10c73a22cc9>\u001b[0m in \u001b[0;36m<module>\u001b[0;34m\u001b[0m\n\u001b[1;32m      1\u001b[0m \u001b[0mmodel_name\u001b[0m \u001b[0;34m=\u001b[0m \u001b[0;34m'ssd_mobilenet_v1_coco_2017_11_17'\u001b[0m\u001b[0;34m\u001b[0m\u001b[0m\n\u001b[0;32m----> 2\u001b[0;31m \u001b[0mdetection_model\u001b[0m \u001b[0;34m=\u001b[0m \u001b[0mload_model\u001b[0m\u001b[0;34m(\u001b[0m\u001b[0mmodel_name\u001b[0m\u001b[0;34m)\u001b[0m\u001b[0;34m\u001b[0m\u001b[0m\n\u001b[0m",
      "\u001b[0;32m<ipython-input-4-98275273523c>\u001b[0m in \u001b[0;36mload_model\u001b[0;34m(model_name)\u001b[0m\n\u001b[1;32m      9\u001b[0m   \u001b[0mmodel_dir\u001b[0m \u001b[0;34m=\u001b[0m \u001b[0;34m\"/root/workspace/models/research/object_detection/output/models/faster_rcnn1222\"\u001b[0m\u001b[0;31m#pathlib.Path(model_dir)/\"saved_model\"\u001b[0m\u001b[0;34m\u001b[0m\u001b[0m\n\u001b[1;32m     10\u001b[0m \u001b[0;34m\u001b[0m\u001b[0m\n\u001b[0;32m---> 11\u001b[0;31m   \u001b[0mmodel\u001b[0m \u001b[0;34m=\u001b[0m \u001b[0mtf\u001b[0m\u001b[0;34m.\u001b[0m\u001b[0msaved_model\u001b[0m\u001b[0;34m.\u001b[0m\u001b[0mload\u001b[0m\u001b[0;34m(\u001b[0m\u001b[0mstr\u001b[0m\u001b[0;34m(\u001b[0m\u001b[0mmodel_dir\u001b[0m\u001b[0;34m)\u001b[0m\u001b[0;34m)\u001b[0m\u001b[0;34m\u001b[0m\u001b[0m\n\u001b[0m\u001b[1;32m     12\u001b[0m   \u001b[0mmodel\u001b[0m \u001b[0;34m=\u001b[0m \u001b[0mmodel\u001b[0m\u001b[0;34m.\u001b[0m\u001b[0msignatures\u001b[0m\u001b[0;34m[\u001b[0m\u001b[0;34m'serving_default'\u001b[0m\u001b[0;34m]\u001b[0m\u001b[0;34m\u001b[0m\u001b[0m\n\u001b[1;32m     13\u001b[0m \u001b[0;34m\u001b[0m\u001b[0m\n",
      "\u001b[0;31mTypeError\u001b[0m: load() missing 2 required positional arguments: 'tags' and 'export_dir'"
     ]
    }
   ],
   "source": [
    "model_name = 'ssd_mobilenet_v1_coco_2017_11_17'\n",
    "detection_model = load_model(model_name)"
   ]
  },
  {
   "cell_type": "markdown",
   "metadata": {
    "colab_type": "text",
    "id": "yN1AYfAEJIGp"
   },
   "source": [
    "Check the model's input signature, it expects a batch of 3-color images of type uint8: "
   ]
  },
  {
   "cell_type": "code",
   "execution_count": 0,
   "metadata": {
    "colab": {},
    "colab_type": "code",
    "id": "CK4cnry6wsHY"
   },
   "outputs": [],
   "source": [
    "print(detection_model.inputs)"
   ]
  },
  {
   "cell_type": "markdown",
   "metadata": {
    "colab_type": "text",
    "id": "Q8u3BjpMJXZF"
   },
   "source": [
    "And retuns several outputs:"
   ]
  },
  {
   "cell_type": "code",
   "execution_count": 0,
   "metadata": {
    "colab": {},
    "colab_type": "code",
    "id": "oLSZpfaYwuSk"
   },
   "outputs": [],
   "source": [
    "detection_model.output_dtypes"
   ]
  },
  {
   "cell_type": "code",
   "execution_count": 0,
   "metadata": {
    "colab": {},
    "colab_type": "code",
    "id": "FZyKUJeuxvpT"
   },
   "outputs": [],
   "source": [
    "detection_model.output_shapes"
   ]
  },
  {
   "cell_type": "markdown",
   "metadata": {
    "colab_type": "text",
    "id": "JP5qZ7sXJpwG"
   },
   "source": [
    "Add a wrapper function to call the model, and cleanup the outputs:"
   ]
  },
  {
   "cell_type": "code",
   "execution_count": 0,
   "metadata": {
    "colab": {},
    "colab_type": "code",
    "id": "ajmR_exWyN76"
   },
   "outputs": [],
   "source": [
    "def run_inference_for_single_image(model, image):\n",
    "  image = np.asarray(image)\n",
    "  # The input needs to be a tensor, convert it using `tf.convert_to_tensor`.\n",
    "  input_tensor = tf.convert_to_tensor(image)\n",
    "  # The model expects a batch of images, so add an axis with `tf.newaxis`.\n",
    "  input_tensor = input_tensor[tf.newaxis,...]\n",
    "\n",
    "  # Run inference\n",
    "  output_dict = model(input_tensor)\n",
    "\n",
    "  # All outputs are batches tensors.\n",
    "  # Convert to numpy arrays, and take index [0] to remove the batch dimension.\n",
    "  # We're only interested in the first num_detections.\n",
    "  num_detections = int(output_dict.pop('num_detections'))\n",
    "  output_dict = {key:value[0, :num_detections].numpy() \n",
    "                 for key,value in output_dict.items()}\n",
    "  output_dict['num_detections'] = num_detections\n",
    "\n",
    "  # detection_classes should be ints.\n",
    "  output_dict['detection_classes'] = output_dict['detection_classes'].astype(np.int64)\n",
    "   \n",
    "  # Handle models with masks:\n",
    "  if 'detection_masks' in output_dict:\n",
    "    # Reframe the the bbox mask to the image size.\n",
    "    detection_masks_reframed = utils_ops.reframe_box_masks_to_image_masks(\n",
    "              output_dict['detection_masks'], output_dict['detection_boxes'],\n",
    "               image.shape[0], image.shape[1])      \n",
    "    detection_masks_reframed = tf.cast(detection_masks_reframed > 0.5,\n",
    "                                       tf.uint8)\n",
    "    output_dict['detection_masks_reframed'] = detection_masks_reframed.numpy()\n",
    "    \n",
    "  return output_dict"
   ]
  },
  {
   "cell_type": "markdown",
   "metadata": {
    "colab_type": "text",
    "id": "z1wq0LVyMRR_"
   },
   "source": [
    "Run it on each test image and show the results:"
   ]
  },
  {
   "cell_type": "code",
   "execution_count": 0,
   "metadata": {
    "colab": {},
    "colab_type": "code",
    "id": "DWh_1zz6aqxs"
   },
   "outputs": [],
   "source": [
    "def show_inference(model, image_path):\n",
    "  # the array based representation of the image will be used later in order to prepare the\n",
    "  # result image with boxes and labels on it.\n",
    "  image_np = np.array(Image.open(image_path))\n",
    "  # Actual detection.\n",
    "  output_dict = run_inference_for_single_image(model, image_np)\n",
    "  # Visualization of the results of a detection.\n",
    "  vis_util.visualize_boxes_and_labels_on_image_array(\n",
    "      image_np,\n",
    "      output_dict['detection_boxes'],\n",
    "      output_dict['detection_classes'],\n",
    "      output_dict['detection_scores'],\n",
    "      category_index,\n",
    "      instance_masks=output_dict.get('detection_masks_reframed', None),\n",
    "      use_normalized_coordinates=True,\n",
    "      line_thickness=8)\n",
    "\n",
    "  display(Image.fromarray(image_np))"
   ]
  },
  {
   "cell_type": "code",
   "execution_count": 0,
   "metadata": {
    "colab": {},
    "colab_type": "code",
    "id": "3a5wMHN8WKMh"
   },
   "outputs": [],
   "source": [
    "for image_path in TEST_IMAGE_PATHS:\n",
    "  show_inference(detection_model, image_path)\n"
   ]
  },
  {
   "cell_type": "markdown",
   "metadata": {
    "colab_type": "text",
    "id": "DsspMPX3Cssg"
   },
   "source": [
    "## Instance Segmentation"
   ]
  },
  {
   "cell_type": "code",
   "execution_count": 0,
   "metadata": {
    "colab": {},
    "colab_type": "code",
    "id": "CzkVv_n2MxKC"
   },
   "outputs": [],
   "source": [
    "model_name = \"mask_rcnn_inception_resnet_v2_atrous_coco_2018_01_28\"\n",
    "masking_model = load_model(\"mask_rcnn_inception_resnet_v2_atrous_coco_2018_01_28\")"
   ]
  },
  {
   "cell_type": "markdown",
   "metadata": {
    "colab_type": "text",
    "id": "0S7aZi8ZOhVV"
   },
   "source": [
    "The instance segmentation model includes a `detection_masks` output:"
   ]
  },
  {
   "cell_type": "code",
   "execution_count": 0,
   "metadata": {
    "colab": {},
    "colab_type": "code",
    "id": "vQ2Sj2VIOZLA"
   },
   "outputs": [],
   "source": [
    "masking_model.output_shapes"
   ]
  },
  {
   "cell_type": "code",
   "execution_count": 0,
   "metadata": {
    "colab": {},
    "colab_type": "code",
    "id": "AS57rZlnNL7W"
   },
   "outputs": [],
   "source": [
    "for image_path in TEST_IMAGE_PATHS:\n",
    "  show_inference(masking_model, image_path)"
   ]
  },
  {
   "cell_type": "code",
   "execution_count": 0,
   "metadata": {
    "colab": {},
    "colab_type": "code",
    "id": "nLlmm9JojEKm"
   },
   "outputs": [],
   "source": []
  }
 ],
 "metadata": {
  "accelerator": "GPU",
  "colab": {
   "collapsed_sections": [],
   "last_runtime": {
    "build_target": "//learning/brain/python/client:colab_notebook",
    "kind": "private"
   },
   "name": "object_detection_tutorial.ipynb",
   "private_outputs": true,
   "provenance": [
    {
     "file_id": "1LNYL6Zsn9Xlil2CVNOTsgDZQSBKeOjCh",
     "timestamp": 1566498233247
    },
    {
     "file_id": "/piper/depot/google3/third_party/tensorflow_models/object_detection/object_detection_tutorial.ipynb?workspaceId=markdaoust:copybara_AFABFE845DCD573AD3D43A6BAFBE77D4_0::citc",
     "timestamp": 1566488313397
    },
    {
     "file_id": "/piper/depot/google3/third_party/py/tensorflow_docs/g3doc/en/r2/tutorials/generative/object_detection_tutorial.ipynb?workspaceId=markdaoust:copybara_AFABFE845DCD573AD3D43A6BAFBE77D4_0::citc",
     "timestamp": 1566145894046
    },
    {
     "file_id": "1nBPoWynOV0auSIy40eQcBIk9C6YRSkI8",
     "timestamp": 1566145841085
    },
    {
     "file_id": "/piper/depot/google3/third_party/tensorflow_models/object_detection/object_detection_tutorial.ipynb?workspaceId=markdaoust:copybara_AFABFE845DCD573AD3D43A6BAFBE77D4_0::citc",
     "timestamp": 1556295408037
    },
    {
     "file_id": "1layerger-51XwWOwYMY_5zHaCavCeQkO",
     "timestamp": 1556214267924
    },
    {
     "file_id": "/piper/depot/google3/third_party/tensorflow_models/object_detection/object_detection_tutorial.ipynb?workspaceId=markdaoust:copybara_AFABFE845DCD573AD3D43A6BAFBE77D4_0::citc",
     "timestamp": 1556207836484
    },
    {
     "file_id": "1w6mqQiNV3liPIX70NOgitOlDF1_4sRMw",
     "timestamp": 1556154824101
    },
    {
     "file_id": "https://github.com/tensorflow/models/blob/master/research/object_detection/object_detection_tutorial.ipynb",
     "timestamp": 1556150293326
    }
   ],
   "version": "0.3.2"
  },
  "kernelspec": {
   "display_name": "Python 3",
   "language": "python",
   "name": "python3"
  },
  "language_info": {
   "codemirror_mode": {
    "name": "ipython",
    "version": 3
   },
   "file_extension": ".py",
   "mimetype": "text/x-python",
   "name": "python",
   "nbconvert_exporter": "python",
   "pygments_lexer": "ipython3",
   "version": "3.6.6"
  }
 },
 "nbformat": 4,
 "nbformat_minor": 1
}
