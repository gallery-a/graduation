{
 "cells": [
  {
   "cell_type": "markdown",
   "metadata": {},
   "source": [
    "## 修改数据集标注"
   ]
  },
  {
   "cell_type": "code",
   "execution_count": 32,
   "metadata": {},
   "outputs": [],
   "source": [
    "import os\n",
    "from xml.etree import ElementTree as ET\n",
    "import shutil\n",
    "from tqdm import tqdm \n",
    "import os\n",
    "import random\n",
    "\n",
    "def makedirifnoExist(path):\n",
    "    if(not os.path.exists(path)):\n",
    "        os.makedirs(path)"
   ]
  },
  {
   "cell_type": "code",
   "execution_count": 10,
   "metadata": {},
   "outputs": [
    {
     "name": "stdout",
     "output_type": "stream",
     "text": [
      "['norm', '.DS_Store', 'Annatations', 'defect_3', 'defect_7', 'defect_6', 'defect_5', 'JPEGImages', 'defect_4', 'defect_2', 'ImageSets', 'defect_1']\n"
     ]
    }
   ],
   "source": [
    "print(os.listdir(\"/root/dataset/xuelang7\"))"
   ]
  },
  {
   "cell_type": "code",
   "execution_count": 35,
   "metadata": {},
   "outputs": [],
   "source": [
    "path = \"/root/dataset/xuelangplus1\""
   ]
  },
  {
   "cell_type": "code",
   "execution_count": 37,
   "metadata": {},
   "outputs": [
    {
     "name": "stderr",
     "output_type": "stream",
     "text": [
      "100%|██████████| 4/4 [00:00<00:00, 372.91it/s]\n"
     ]
    }
   ],
   "source": [
    "\n",
    "JPEGImages = os.path.join(path, \"JPEGImages\")\n",
    "Annatations = os.path.join(path, \"Annatations\")\n",
    "ImageSets = os.path.join(path, \"ImageSets\")\n",
    "makedirifnoExist(JPEGImages)\n",
    "makedirifnoExist(Annatations)\n",
    "makedirifnoExist(ImageSets)\n",
    "\n",
    "for folder in tqdm(os.listdir(path)):\n",
    "    if folder[0] == \".\":\n",
    "        continue\n",
    "    folder_path = os.path.join(path, folder)\n",
    "    for file in os.listdir(folder_path):\n",
    "        if(file[0]==\".\"):\n",
    "            continue\n",
    "        file_path = os.path.join(folder_path, file)\n",
    "        if(file[-3:]==\"xml\" and not os.path.isfile(os.path.join(Annatations,file))): \n",
    "            xml_path = os.path.join(folder_path, file)\n",
    "            jpg_path = os.path.join(folder_path, file[:-3]+\"jpg\")\n",
    "            \n",
    "            updateTree = ET.parse(xml_path)\n",
    "            annotation = updateTree.getroot()\n",
    "            newEle = ET.Element(\"folder\")\n",
    "            newEle.text = \"xuelang\"\n",
    "            annotation.append(newEle)\n",
    "            #<folder>xuelang</folder>\n",
    "            obj = annotation.find(\"object\")\n",
    "            obj_name = obj.find(\"name\")\n",
    "            obj_name.text = folder\n",
    "            updateTree = updateTree.write(xml_path)\n",
    "            shutil.copy(xml_path, Annatations)\n",
    "            shutil.copy(jpg_path, JPEGImages)\n",
    "\n",
    "        "
   ]
  },
  {
   "cell_type": "code",
   "execution_count": 36,
   "metadata": {},
   "outputs": [],
   "source": [
    "trainval_percent = 0.9\n",
    "train_percent = 0.7\n",
    "\n",
    "xmlfilepath = os.path.join(path,\"Annotations\")\n",
    "txtsavepath = os.path.join(path, \"ImageSets/Main\")\n",
    "\n",
    "trainval = []\n",
    "train = []\n",
    "val = []\n",
    "test = []\n",
    "\n",
    "for folder in os.listdir(path):\n",
    "    if(folder == \"norm\" or folder[0] == \".\"):\n",
    "        continue\n",
    "    folder_path = os.path.join(path, folder)\n",
    "    xml_list = []\n",
    "    for file in os.listdir(folder_path):\n",
    "        if(file[-3:]==\"xml\"):\n",
    "            xml_list.append(file[:-4]+\"\\n\")\n",
    "    random.shuffle(xml_list)\n",
    "    l = len(xml_list)\n",
    "    trainval += xml_list[:int(l*trainval_percent)]\n",
    "    train += xml_list[:int(l*train_percent)]\n",
    "    val += xml_list[int(l*train_percent):int(l*trainval_percent)]\n",
    "    test += xml_list[int(l*trainval_percent):]\n",
    "\n",
    "makedirifnoExist(os.path.join(path,\"ImageSets/Main\"))\n",
    "\n",
    "ftrainval = open(os.path.join(path,\"ImageSets/Main/trainval.txt\"), 'w')\n",
    "ftest = open(os.path.join(path,\"ImageSets/Main/test.txt\"), 'w')\n",
    "ftrain = open(os.path.join(path,\"ImageSets/Main/train.txt\"), 'w')\n",
    "fval = open(os.path.join(path,\"ImageSets/Main/val.txt\"), 'w')\n",
    "\n",
    "\n",
    "list_txt = [[trainval,ftrainval],[train,ftrain],[val,fval],[test,ftest]]\n",
    "\n",
    "\n",
    "for tlist, txt  in list_txt:\n",
    "    \n",
    "    for filename in tlist:\n",
    "        txt.write(filename)\n",
    "    txt.close()\n",
    "    \n",
    "ftrainval.close()\n",
    "ftrain.close()\n",
    "fval.close()\n",
    "ftest .close()"
   ]
  },
  {
   "cell_type": "code",
   "execution_count": null,
   "metadata": {},
   "outputs": [],
   "source": []
  },
  {
   "cell_type": "code",
   "execution_count": 47,
   "metadata": {},
   "outputs": [],
   "source": [
    "def Splitdataset(traintxt, savedir, annodir=None, imgdir=None):\n",
    "    annolist = []\n",
    "    for i in os.listdir(annodir):\n",
    "        if i[0]==\".\":\n",
    "            continue\n",
    "        annolist.append(i[:-4])\n",
    "    #打开train.txt文件，读取训练集文件名(不含后缀)\n",
    "    f = open(traintxt, 'r')\n",
    "    trainlist =[file.replace('\\n','') for file in f.readlines()]\n",
    "    f.close()\n",
    "    #分别建立训练和测试集图片和标注文件的文件夹，一共4个\n",
    "    train_xml_path = os.path.join(savedir, 'trainAnnotations')\n",
    "    train_img_path = os.path.join(savedir, 'trainJPEGImages')\n",
    "    test_xml_path = os.path.join(savedir, 'testAnnotations')\n",
    "    test_img_path = os.path.join(savedir, 'testJPEGImages')\n",
    "    makedirifnoExist(train_xml_path)\n",
    "    makedirifnoExist(train_img_path)\n",
    "    makedirifnoExist(test_xml_path)\n",
    "    makedirifnoExist(test_img_path)\n",
    "    #遍历训练集文件名\n",
    "    for i, xml in enumerate(trainlist):\n",
    "        #将训练集中的图片和标注文件复制出来\n",
    "        #xml = xml.replace('\\n', '')\n",
    "        shutil.copyfile(os.path.join(annodir, xml + '.xml' ), \n",
    "                    os.path.join(train_xml_path, xml+'.xml'))\n",
    "        shutil.copyfile(os.path.join(imgdir, xml)+ '.jpg', \n",
    "                    os.path.join(train_img_path, xml) + '.jpg')\n",
    "        #根据全部数据集文件名和训练集文件名，得出测试集文件名\n",
    "        annolist.remove(xml)\n",
    "            \n",
    "            #遍历测试集文件名\n",
    "    for i, xml in enumerate(annolist):\n",
    "        #将测试集中的文件复制出来\n",
    "        shutil.copyfile(os.path.join(annodir, xml+'.xml'), \n",
    "                    os.path.join(test_xml_path, xml+'.xml'))\n",
    "        shutil.copyfile(os.path.join(imgdir, xml)+ '.jpg', \n",
    "                    os.path.join(test_img_path, xml) + '.jpg')"
   ]
  },
  {
   "cell_type": "code",
   "execution_count": 48,
   "metadata": {},
   "outputs": [],
   "source": [
    "savedir = \"/root/workspace/Cascade-RCNN_Tensorflow/data/xuelangplus1\"\n",
    "imgdir = \"/root/dataset/xuelangplus1/JPEGImages\"\n",
    "annodir = \"/root/dataset/xuelangplus1/Annatations\"\n",
    "train = \"/root/dataset/xuelangplus1/ImageSets/Main/trainval.txt\"\n",
    "Splitdataset(train, savedir, annodir, imgdir)"
   ]
  },
  {
   "cell_type": "code",
   "execution_count": 17,
   "metadata": {},
   "outputs": [
    {
     "name": "stdout",
     "output_type": "stream",
     "text": [
      "71\n"
     ]
    }
   ],
   "source": [
    "f = open(train, 'r')\n",
    "trainlist = f.readlines()\n",
    "f.close()\n",
    "res = {}\n",
    "for i in trainlist:\n",
    "    if i not in res.keys():\n",
    "        res[i] = 1\n",
    "    else:\n",
    "        res[i] += 1\n",
    "        print(res[i])\n",
    "\n",
    "print(len(trainlist))"
   ]
  },
  {
   "cell_type": "code",
   "execution_count": 19,
   "metadata": {},
   "outputs": [],
   "source": [
    "folder_path = \"/root/dataset/xuelang/Annatations\"\n",
    "for file in os.listdir(folder_path):\n",
    "    if(file[0]==\".\"):\n",
    "        continue\n",
    "    xml_path = os.path.join(folder_path, file)\n",
    "\n",
    "    updateTree = ET.parse(xml_path)\n",
    "    annotation = updateTree.getroot()\n",
    "    newEle = ET.Element(\"folder\")\n",
    "    newEle.text = \"xuelang\"\n",
    "    annotation.append(newEle)\n",
    "    #<folder>xuelang</folder>\n",
    "    objs = annotation.findall(\"object\")\n",
    "    for obj in objs:\n",
    "        obj_name = obj.find(\"name\")\n",
    "        obj_name.text = \"defect_1\"\n",
    "    updateTree = updateTree.write(xml_path)\n",
    "        "
   ]
  },
  {
   "cell_type": "markdown",
   "metadata": {},
   "source": [
    "# new datas"
   ]
  },
  {
   "cell_type": "code",
   "execution_count": 2,
   "metadata": {},
   "outputs": [],
   "source": [
    "import os\n",
    "from xml.etree import ElementTree as ET\n",
    "import shutil\n",
    "from tqdm import tqdm \n",
    "import os\n",
    "import random\n",
    "\n",
    "def makedirifnoExist(path):\n",
    "    if(not os.path.exists(path)):\n",
    "        os.makedirs(path)\n",
    "        "
   ]
  },
  {
   "cell_type": "code",
   "execution_count": 28,
   "metadata": {},
   "outputs": [],
   "source": [
    "def changeLable(xml_file_path, save_path,file):\n",
    "    updateTree = ET.parse(xml_file_path)\n",
    "    annotation = updateTree.getroot()\n",
    "    obj = annotation.find(\"filename\")\n",
    "    obj.text = file\n",
    "    updateTree = updateTree.write(save_path)\n",
    "path = \"/root/workspace/output\"\n",
    "xmlpath = \"/root/dataset/xuelang7/Annatations\"\n",
    "imgpath = \"/root/dataset/xuelang7/JPEGImages\"\n",
    "save_img_path = \"/root/dataset/xuelangplus7/JPEGImages\"\n",
    "save_xml_path = \"/root/dataset/xuelangplus7/Annatations\"\n",
    "for folder in os.listdir(path):\n",
    "    folderpath = os.path.join(path,folder)\n",
    "    for file in os.listdir(folderpath):\n",
    "        filepath = os.path.join(folderpath,file)\n",
    "        shutil.copy(filepath,save_img_path)\n",
    "        filename = \"\"\n",
    "        for nn in file.split(\"_\")[:-1]:\n",
    "            filename += nn + \"_\"\n",
    "        xml_file_path = os.path.join(xmlpath, filename[:-1]+'.xml' )\n",
    "        save_xml_file_path = os.path.join(save_xml_path, file[:-4]+'.xml' )\n",
    "        changeLable(xml_file_path,save_xml_file_path,file)\n"
   ]
  },
  {
   "cell_type": "code",
   "execution_count": 29,
   "metadata": {},
   "outputs": [
    {
     "name": "stderr",
     "output_type": "stream",
     "text": [
      "100%|██████████| 706/706 [00:24<00:00, 29.22it/s]\n"
     ]
    }
   ],
   "source": [
    "from tqdm import tqdm\n",
    "path1=\"/root/dataset/xuelangplus7/JPEGImages\"\n",
    "path2=\"/root/dataset/xuelang7/JPEGImages\"\n",
    "for file in tqdm(os.listdir(path2)):\n",
    "    filepath =os.path.join(path2,file)\n",
    "    shutil.copy(filepath,path1)"
   ]
  },
  {
   "cell_type": "code",
   "execution_count": 30,
   "metadata": {},
   "outputs": [
    {
     "name": "stderr",
     "output_type": "stream",
     "text": [
      "100%|██████████| 706/706 [00:00<00:00, 8119.91it/s]\n"
     ]
    }
   ],
   "source": [
    "from tqdm import tqdm\n",
    "path1=\"/root/dataset/xuelangplus7/Annatations\"\n",
    "path2=\"/root/dataset/xuelang7/Annatations\"\n",
    "for file in tqdm(os.listdir(path2)):\n",
    "    filepath =os.path.join(path2,file)\n",
    "    shutil.copy(filepath,path1)"
   ]
  },
  {
   "cell_type": "code",
   "execution_count": 31,
   "metadata": {},
   "outputs": [
    {
     "name": "stdout",
     "output_type": "stream",
     "text": [
      "3530\n"
     ]
    }
   ],
   "source": [
    "print(len(os.listdir(path1)))"
   ]
  },
  {
   "cell_type": "code",
   "execution_count": null,
   "metadata": {},
   "outputs": [],
   "source": [
    "changeLable(xml_file_path,save_path,file):\n",
    "    updateTree = ET.parse(xml_path)\n",
    "    annotation = updateTree.getroot()\n",
    "    obj = annotation.findall(\"filename\")\n",
    "    obj.text = file\n",
    "    updateTree = updateTree.write(save_path)"
   ]
  }
 ],
 "metadata": {
  "kernelspec": {
   "display_name": "Python 3",
   "language": "python",
   "name": "python3"
  },
  "language_info": {
   "codemirror_mode": {
    "name": "ipython",
    "version": 3
   },
   "file_extension": ".py",
   "mimetype": "text/x-python",
   "name": "python",
   "nbconvert_exporter": "python",
   "pygments_lexer": "ipython3",
   "version": "3.6.6"
  }
 },
 "nbformat": 4,
 "nbformat_minor": 2
}
