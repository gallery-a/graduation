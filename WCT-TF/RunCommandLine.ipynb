{
 "cells": [
  {
   "cell_type": "code",
   "execution_count": null,
   "metadata": {},
   "outputs": [],
   "source": [
    "python3 stylize.py --checkpoints models/relu5_1 models/relu4_1 models/relu3_1 models/relu2_1 models/relu1_1 --relu-targets relu5_1 relu4_1 relu3_1 relu2_1  --style-size 1080 --alpha 0.7 --style-path /root/workspace/WCT-TF/samples/linen.jpg --content-path /root/workspace/WCT-TF/samples/gg.jpg --out-path /root/workspace/WCT-TF/samples"
   ]
  },
  {
   "cell_type": "code",
   "execution_count": 8,
   "metadata": {},
   "outputs": [],
   "source": [
    "import cv2\n",
    "import os\n",
    "def makedirifnoExist(path):\n",
    "    if(not os.path.exists(path)):\n",
    "        os.makedirs(path)\n",
    "    else:\n",
    "        os.system(\"rm -r \"+path)"
   ]
  },
  {
   "cell_type": "code",
   "execution_count": 5,
   "metadata": {},
   "outputs": [],
   "source": [
    "texture_path = \"/root/workspace/WCT-TF/texture\"\n",
    "com1 = r\"python3 stylize.py --checkpoints models/relu5_1 models/relu4_1 models/relu3_1 models/relu2_1 models/relu1_1 --relu-targets relu5_1 relu4_1 relu3_1 relu2_1 --style-size \"\n",
    "com2 = r\" --alpha 0.8 --style-path \"\n",
    "com3 = \" --content-path /root/dataset/xuelang/JPEGImages --out-path \""
   ]
  },
  {
   "cell_type": "code",
   "execution_count": 6,
   "metadata": {},
   "outputs": [
    {
     "name": "stdout",
     "output_type": "stream",
     "text": [
      "Finished linen.jpg\n",
      "Finished cotton.jpg\n",
      "Finished line2.jpg\n",
      "Finished jeans.jpg\n"
     ]
    }
   ],
   "source": [
    "for tex in os.listdir(texture_path):\n",
    "    tex_path = os.path.join(texture_path, tex)\n",
    "    img = cv2.imread(tex_path)\n",
    "    outpath = \"/root/workspace/WCT-TF/output/\"+tex.split(\".\")[0]\n",
    "    makedirifnoExist(outpath)\n",
    "    com = com1+ str(img.shape[0]) + com2 + tex_path + com3 + outpath\n",
    "    print(com)\n",
    "    os.system(com)\n",
    "    print(\"Finished %s\" % tex)"
   ]
  },
  {
   "cell_type": "code",
   "execution_count": 9,
   "metadata": {},
   "outputs": [],
   "source": [
    "texture_path = \"/root/workspace/WCT-TF/texture\"\n",
    "com1 = r\"python3 stylize.py --checkpoints models/relu5_1 models/relu4_1 models/relu3_1 models/relu2_1 models/relu1_1 --relu-targets \"\n",
    "com2list = [\"relu5_1 relu4_1 relu3_1 relu2_1 relu1_1\", \"relu5_1 relu4_1 relu3_1 relu2_1\", \"relu5_1 relu4_1 relu3_1\",\"relu5_1 relu4_1\",\"relu5_1\"]\n",
    "com3 = \" --style-size 853 \"\n",
    "com4 = r\" --alpha \"\n",
    "com6 = \" --style-path /root/workspace/WCT-TF/samples/linen2.jpg --content-path /root/workspace/WCT-TF/outputexample/example.jpg --out-path /root/workspace/WCT-TF/outputexample\""
   ]
  },
  {
   "cell_type": "code",
   "execution_count": 10,
   "metadata": {},
   "outputs": [
    {
     "name": "stdout",
     "output_type": "stream",
     "text": [
      "python3 stylize.py --checkpoints models/relu5_1 models/relu4_1 models/relu3_1 models/relu2_1 models/relu1_1 --relu-targets relu5_1 relu4_1 relu3_1 relu2_1 relu1_1 --style-size 853  --alpha 0.0 --style-path /root/workspace/WCT-TF/samples/linen2.jpg --content-path /root/workspace/WCT-TF/outputexample/example.jpg --out-path /root/workspace/WCT-TF/outputexample\n",
      "python3 stylize.py --checkpoints models/relu5_1 models/relu4_1 models/relu3_1 models/relu2_1 models/relu1_1 --relu-targets relu5_1 relu4_1 relu3_1 relu2_1 relu1_1 --style-size 853  --alpha 0.1 --style-path /root/workspace/WCT-TF/samples/linen2.jpg --content-path /root/workspace/WCT-TF/outputexample/example.jpg --out-path /root/workspace/WCT-TF/outputexample\n",
      "python3 stylize.py --checkpoints models/relu5_1 models/relu4_1 models/relu3_1 models/relu2_1 models/relu1_1 --relu-targets relu5_1 relu4_1 relu3_1 relu2_1 relu1_1 --style-size 853  --alpha 0.2 --style-path /root/workspace/WCT-TF/samples/linen2.jpg --content-path /root/workspace/WCT-TF/outputexample/example.jpg --out-path /root/workspace/WCT-TF/outputexample\n",
      "python3 stylize.py --checkpoints models/relu5_1 models/relu4_1 models/relu3_1 models/relu2_1 models/relu1_1 --relu-targets relu5_1 relu4_1 relu3_1 relu2_1 relu1_1 --style-size 853  --alpha 0.3 --style-path /root/workspace/WCT-TF/samples/linen2.jpg --content-path /root/workspace/WCT-TF/outputexample/example.jpg --out-path /root/workspace/WCT-TF/outputexample\n",
      "python3 stylize.py --checkpoints models/relu5_1 models/relu4_1 models/relu3_1 models/relu2_1 models/relu1_1 --relu-targets relu5_1 relu4_1 relu3_1 relu2_1 relu1_1 --style-size 853  --alpha 0.4 --style-path /root/workspace/WCT-TF/samples/linen2.jpg --content-path /root/workspace/WCT-TF/outputexample/example.jpg --out-path /root/workspace/WCT-TF/outputexample\n",
      "python3 stylize.py --checkpoints models/relu5_1 models/relu4_1 models/relu3_1 models/relu2_1 models/relu1_1 --relu-targets relu5_1 relu4_1 relu3_1 relu2_1 relu1_1 --style-size 853  --alpha 0.5 --style-path /root/workspace/WCT-TF/samples/linen2.jpg --content-path /root/workspace/WCT-TF/outputexample/example.jpg --out-path /root/workspace/WCT-TF/outputexample\n",
      "python3 stylize.py --checkpoints models/relu5_1 models/relu4_1 models/relu3_1 models/relu2_1 models/relu1_1 --relu-targets relu5_1 relu4_1 relu3_1 relu2_1 relu1_1 --style-size 853  --alpha 0.6 --style-path /root/workspace/WCT-TF/samples/linen2.jpg --content-path /root/workspace/WCT-TF/outputexample/example.jpg --out-path /root/workspace/WCT-TF/outputexample\n",
      "python3 stylize.py --checkpoints models/relu5_1 models/relu4_1 models/relu3_1 models/relu2_1 models/relu1_1 --relu-targets relu5_1 relu4_1 relu3_1 relu2_1 relu1_1 --style-size 853  --alpha 0.7 --style-path /root/workspace/WCT-TF/samples/linen2.jpg --content-path /root/workspace/WCT-TF/outputexample/example.jpg --out-path /root/workspace/WCT-TF/outputexample\n",
      "python3 stylize.py --checkpoints models/relu5_1 models/relu4_1 models/relu3_1 models/relu2_1 models/relu1_1 --relu-targets relu5_1 relu4_1 relu3_1 relu2_1 relu1_1 --style-size 853  --alpha 0.8 --style-path /root/workspace/WCT-TF/samples/linen2.jpg --content-path /root/workspace/WCT-TF/outputexample/example.jpg --out-path /root/workspace/WCT-TF/outputexample\n",
      "python3 stylize.py --checkpoints models/relu5_1 models/relu4_1 models/relu3_1 models/relu2_1 models/relu1_1 --relu-targets relu5_1 relu4_1 relu3_1 relu2_1 relu1_1 --style-size 853  --alpha 0.9 --style-path /root/workspace/WCT-TF/samples/linen2.jpg --content-path /root/workspace/WCT-TF/outputexample/example.jpg --out-path /root/workspace/WCT-TF/outputexample\n",
      "python3 stylize.py --checkpoints models/relu5_1 models/relu4_1 models/relu3_1 models/relu2_1 models/relu1_1 --relu-targets relu5_1 relu4_1 relu3_1 relu2_1 relu1_1 --style-size 853  --alpha 1.0 --style-path /root/workspace/WCT-TF/samples/linen2.jpg --content-path /root/workspace/WCT-TF/outputexample/example.jpg --out-path /root/workspace/WCT-TF/outputexample\n",
      "python3 stylize.py --checkpoints models/relu5_1 models/relu4_1 models/relu3_1 models/relu2_1 models/relu1_1 --relu-targets relu5_1 relu4_1 relu3_1 relu2_1 --style-size 853  --alpha 0.0 --style-path /root/workspace/WCT-TF/samples/linen2.jpg --content-path /root/workspace/WCT-TF/outputexample/example.jpg --out-path /root/workspace/WCT-TF/outputexample\n",
      "python3 stylize.py --checkpoints models/relu5_1 models/relu4_1 models/relu3_1 models/relu2_1 models/relu1_1 --relu-targets relu5_1 relu4_1 relu3_1 relu2_1 --style-size 853  --alpha 0.1 --style-path /root/workspace/WCT-TF/samples/linen2.jpg --content-path /root/workspace/WCT-TF/outputexample/example.jpg --out-path /root/workspace/WCT-TF/outputexample\n",
      "python3 stylize.py --checkpoints models/relu5_1 models/relu4_1 models/relu3_1 models/relu2_1 models/relu1_1 --relu-targets relu5_1 relu4_1 relu3_1 relu2_1 --style-size 853  --alpha 0.2 --style-path /root/workspace/WCT-TF/samples/linen2.jpg --content-path /root/workspace/WCT-TF/outputexample/example.jpg --out-path /root/workspace/WCT-TF/outputexample\n",
      "python3 stylize.py --checkpoints models/relu5_1 models/relu4_1 models/relu3_1 models/relu2_1 models/relu1_1 --relu-targets relu5_1 relu4_1 relu3_1 relu2_1 --style-size 853  --alpha 0.3 --style-path /root/workspace/WCT-TF/samples/linen2.jpg --content-path /root/workspace/WCT-TF/outputexample/example.jpg --out-path /root/workspace/WCT-TF/outputexample\n",
      "python3 stylize.py --checkpoints models/relu5_1 models/relu4_1 models/relu3_1 models/relu2_1 models/relu1_1 --relu-targets relu5_1 relu4_1 relu3_1 relu2_1 --style-size 853  --alpha 0.4 --style-path /root/workspace/WCT-TF/samples/linen2.jpg --content-path /root/workspace/WCT-TF/outputexample/example.jpg --out-path /root/workspace/WCT-TF/outputexample\n",
      "python3 stylize.py --checkpoints models/relu5_1 models/relu4_1 models/relu3_1 models/relu2_1 models/relu1_1 --relu-targets relu5_1 relu4_1 relu3_1 relu2_1 --style-size 853  --alpha 0.5 --style-path /root/workspace/WCT-TF/samples/linen2.jpg --content-path /root/workspace/WCT-TF/outputexample/example.jpg --out-path /root/workspace/WCT-TF/outputexample\n",
      "python3 stylize.py --checkpoints models/relu5_1 models/relu4_1 models/relu3_1 models/relu2_1 models/relu1_1 --relu-targets relu5_1 relu4_1 relu3_1 relu2_1 --style-size 853  --alpha 0.6 --style-path /root/workspace/WCT-TF/samples/linen2.jpg --content-path /root/workspace/WCT-TF/outputexample/example.jpg --out-path /root/workspace/WCT-TF/outputexample\n",
      "python3 stylize.py --checkpoints models/relu5_1 models/relu4_1 models/relu3_1 models/relu2_1 models/relu1_1 --relu-targets relu5_1 relu4_1 relu3_1 relu2_1 --style-size 853  --alpha 0.7 --style-path /root/workspace/WCT-TF/samples/linen2.jpg --content-path /root/workspace/WCT-TF/outputexample/example.jpg --out-path /root/workspace/WCT-TF/outputexample\n",
      "python3 stylize.py --checkpoints models/relu5_1 models/relu4_1 models/relu3_1 models/relu2_1 models/relu1_1 --relu-targets relu5_1 relu4_1 relu3_1 relu2_1 --style-size 853  --alpha 0.8 --style-path /root/workspace/WCT-TF/samples/linen2.jpg --content-path /root/workspace/WCT-TF/outputexample/example.jpg --out-path /root/workspace/WCT-TF/outputexample\n",
      "python3 stylize.py --checkpoints models/relu5_1 models/relu4_1 models/relu3_1 models/relu2_1 models/relu1_1 --relu-targets relu5_1 relu4_1 relu3_1 relu2_1 --style-size 853  --alpha 0.9 --style-path /root/workspace/WCT-TF/samples/linen2.jpg --content-path /root/workspace/WCT-TF/outputexample/example.jpg --out-path /root/workspace/WCT-TF/outputexample\n",
      "python3 stylize.py --checkpoints models/relu5_1 models/relu4_1 models/relu3_1 models/relu2_1 models/relu1_1 --relu-targets relu5_1 relu4_1 relu3_1 relu2_1 --style-size 853  --alpha 1.0 --style-path /root/workspace/WCT-TF/samples/linen2.jpg --content-path /root/workspace/WCT-TF/outputexample/example.jpg --out-path /root/workspace/WCT-TF/outputexample\n",
      "python3 stylize.py --checkpoints models/relu5_1 models/relu4_1 models/relu3_1 models/relu2_1 models/relu1_1 --relu-targets relu5_1 relu4_1 relu3_1 --style-size 853  --alpha 0.0 --style-path /root/workspace/WCT-TF/samples/linen2.jpg --content-path /root/workspace/WCT-TF/outputexample/example.jpg --out-path /root/workspace/WCT-TF/outputexample\n",
      "python3 stylize.py --checkpoints models/relu5_1 models/relu4_1 models/relu3_1 models/relu2_1 models/relu1_1 --relu-targets relu5_1 relu4_1 relu3_1 --style-size 853  --alpha 0.1 --style-path /root/workspace/WCT-TF/samples/linen2.jpg --content-path /root/workspace/WCT-TF/outputexample/example.jpg --out-path /root/workspace/WCT-TF/outputexample\n"
     ]
    },
    {
     "name": "stdout",
     "output_type": "stream",
     "text": [
      "python3 stylize.py --checkpoints models/relu5_1 models/relu4_1 models/relu3_1 models/relu2_1 models/relu1_1 --relu-targets relu5_1 relu4_1 relu3_1 --style-size 853  --alpha 0.2 --style-path /root/workspace/WCT-TF/samples/linen2.jpg --content-path /root/workspace/WCT-TF/outputexample/example.jpg --out-path /root/workspace/WCT-TF/outputexample\n",
      "python3 stylize.py --checkpoints models/relu5_1 models/relu4_1 models/relu3_1 models/relu2_1 models/relu1_1 --relu-targets relu5_1 relu4_1 relu3_1 --style-size 853  --alpha 0.3 --style-path /root/workspace/WCT-TF/samples/linen2.jpg --content-path /root/workspace/WCT-TF/outputexample/example.jpg --out-path /root/workspace/WCT-TF/outputexample\n",
      "python3 stylize.py --checkpoints models/relu5_1 models/relu4_1 models/relu3_1 models/relu2_1 models/relu1_1 --relu-targets relu5_1 relu4_1 relu3_1 --style-size 853  --alpha 0.4 --style-path /root/workspace/WCT-TF/samples/linen2.jpg --content-path /root/workspace/WCT-TF/outputexample/example.jpg --out-path /root/workspace/WCT-TF/outputexample\n",
      "python3 stylize.py --checkpoints models/relu5_1 models/relu4_1 models/relu3_1 models/relu2_1 models/relu1_1 --relu-targets relu5_1 relu4_1 relu3_1 --style-size 853  --alpha 0.5 --style-path /root/workspace/WCT-TF/samples/linen2.jpg --content-path /root/workspace/WCT-TF/outputexample/example.jpg --out-path /root/workspace/WCT-TF/outputexample\n",
      "python3 stylize.py --checkpoints models/relu5_1 models/relu4_1 models/relu3_1 models/relu2_1 models/relu1_1 --relu-targets relu5_1 relu4_1 relu3_1 --style-size 853  --alpha 0.6 --style-path /root/workspace/WCT-TF/samples/linen2.jpg --content-path /root/workspace/WCT-TF/outputexample/example.jpg --out-path /root/workspace/WCT-TF/outputexample\n",
      "python3 stylize.py --checkpoints models/relu5_1 models/relu4_1 models/relu3_1 models/relu2_1 models/relu1_1 --relu-targets relu5_1 relu4_1 relu3_1 --style-size 853  --alpha 0.7 --style-path /root/workspace/WCT-TF/samples/linen2.jpg --content-path /root/workspace/WCT-TF/outputexample/example.jpg --out-path /root/workspace/WCT-TF/outputexample\n",
      "python3 stylize.py --checkpoints models/relu5_1 models/relu4_1 models/relu3_1 models/relu2_1 models/relu1_1 --relu-targets relu5_1 relu4_1 relu3_1 --style-size 853  --alpha 0.8 --style-path /root/workspace/WCT-TF/samples/linen2.jpg --content-path /root/workspace/WCT-TF/outputexample/example.jpg --out-path /root/workspace/WCT-TF/outputexample\n",
      "python3 stylize.py --checkpoints models/relu5_1 models/relu4_1 models/relu3_1 models/relu2_1 models/relu1_1 --relu-targets relu5_1 relu4_1 relu3_1 --style-size 853  --alpha 0.9 --style-path /root/workspace/WCT-TF/samples/linen2.jpg --content-path /root/workspace/WCT-TF/outputexample/example.jpg --out-path /root/workspace/WCT-TF/outputexample\n",
      "python3 stylize.py --checkpoints models/relu5_1 models/relu4_1 models/relu3_1 models/relu2_1 models/relu1_1 --relu-targets relu5_1 relu4_1 relu3_1 --style-size 853  --alpha 1.0 --style-path /root/workspace/WCT-TF/samples/linen2.jpg --content-path /root/workspace/WCT-TF/outputexample/example.jpg --out-path /root/workspace/WCT-TF/outputexample\n",
      "python3 stylize.py --checkpoints models/relu5_1 models/relu4_1 models/relu3_1 models/relu2_1 models/relu1_1 --relu-targets relu5_1 relu4_1 --style-size 853  --alpha 0.0 --style-path /root/workspace/WCT-TF/samples/linen2.jpg --content-path /root/workspace/WCT-TF/outputexample/example.jpg --out-path /root/workspace/WCT-TF/outputexample\n",
      "python3 stylize.py --checkpoints models/relu5_1 models/relu4_1 models/relu3_1 models/relu2_1 models/relu1_1 --relu-targets relu5_1 relu4_1 --style-size 853  --alpha 0.1 --style-path /root/workspace/WCT-TF/samples/linen2.jpg --content-path /root/workspace/WCT-TF/outputexample/example.jpg --out-path /root/workspace/WCT-TF/outputexample\n",
      "python3 stylize.py --checkpoints models/relu5_1 models/relu4_1 models/relu3_1 models/relu2_1 models/relu1_1 --relu-targets relu5_1 relu4_1 --style-size 853  --alpha 0.2 --style-path /root/workspace/WCT-TF/samples/linen2.jpg --content-path /root/workspace/WCT-TF/outputexample/example.jpg --out-path /root/workspace/WCT-TF/outputexample\n",
      "python3 stylize.py --checkpoints models/relu5_1 models/relu4_1 models/relu3_1 models/relu2_1 models/relu1_1 --relu-targets relu5_1 relu4_1 --style-size 853  --alpha 0.3 --style-path /root/workspace/WCT-TF/samples/linen2.jpg --content-path /root/workspace/WCT-TF/outputexample/example.jpg --out-path /root/workspace/WCT-TF/outputexample\n",
      "python3 stylize.py --checkpoints models/relu5_1 models/relu4_1 models/relu3_1 models/relu2_1 models/relu1_1 --relu-targets relu5_1 relu4_1 --style-size 853  --alpha 0.4 --style-path /root/workspace/WCT-TF/samples/linen2.jpg --content-path /root/workspace/WCT-TF/outputexample/example.jpg --out-path /root/workspace/WCT-TF/outputexample\n",
      "python3 stylize.py --checkpoints models/relu5_1 models/relu4_1 models/relu3_1 models/relu2_1 models/relu1_1 --relu-targets relu5_1 relu4_1 --style-size 853  --alpha 0.5 --style-path /root/workspace/WCT-TF/samples/linen2.jpg --content-path /root/workspace/WCT-TF/outputexample/example.jpg --out-path /root/workspace/WCT-TF/outputexample\n",
      "python3 stylize.py --checkpoints models/relu5_1 models/relu4_1 models/relu3_1 models/relu2_1 models/relu1_1 --relu-targets relu5_1 relu4_1 --style-size 853  --alpha 0.6 --style-path /root/workspace/WCT-TF/samples/linen2.jpg --content-path /root/workspace/WCT-TF/outputexample/example.jpg --out-path /root/workspace/WCT-TF/outputexample\n",
      "python3 stylize.py --checkpoints models/relu5_1 models/relu4_1 models/relu3_1 models/relu2_1 models/relu1_1 --relu-targets relu5_1 relu4_1 --style-size 853  --alpha 0.7 --style-path /root/workspace/WCT-TF/samples/linen2.jpg --content-path /root/workspace/WCT-TF/outputexample/example.jpg --out-path /root/workspace/WCT-TF/outputexample\n",
      "python3 stylize.py --checkpoints models/relu5_1 models/relu4_1 models/relu3_1 models/relu2_1 models/relu1_1 --relu-targets relu5_1 relu4_1 --style-size 853  --alpha 0.8 --style-path /root/workspace/WCT-TF/samples/linen2.jpg --content-path /root/workspace/WCT-TF/outputexample/example.jpg --out-path /root/workspace/WCT-TF/outputexample\n",
      "python3 stylize.py --checkpoints models/relu5_1 models/relu4_1 models/relu3_1 models/relu2_1 models/relu1_1 --relu-targets relu5_1 relu4_1 --style-size 853  --alpha 0.9 --style-path /root/workspace/WCT-TF/samples/linen2.jpg --content-path /root/workspace/WCT-TF/outputexample/example.jpg --out-path /root/workspace/WCT-TF/outputexample\n",
      "python3 stylize.py --checkpoints models/relu5_1 models/relu4_1 models/relu3_1 models/relu2_1 models/relu1_1 --relu-targets relu5_1 relu4_1 --style-size 853  --alpha 1.0 --style-path /root/workspace/WCT-TF/samples/linen2.jpg --content-path /root/workspace/WCT-TF/outputexample/example.jpg --out-path /root/workspace/WCT-TF/outputexample\n",
      "python3 stylize.py --checkpoints models/relu5_1 models/relu4_1 models/relu3_1 models/relu2_1 models/relu1_1 --relu-targets relu5_1 --style-size 853  --alpha 0.0 --style-path /root/workspace/WCT-TF/samples/linen2.jpg --content-path /root/workspace/WCT-TF/outputexample/example.jpg --out-path /root/workspace/WCT-TF/outputexample\n",
      "python3 stylize.py --checkpoints models/relu5_1 models/relu4_1 models/relu3_1 models/relu2_1 models/relu1_1 --relu-targets relu5_1 --style-size 853  --alpha 0.1 --style-path /root/workspace/WCT-TF/samples/linen2.jpg --content-path /root/workspace/WCT-TF/outputexample/example.jpg --out-path /root/workspace/WCT-TF/outputexample\n",
      "python3 stylize.py --checkpoints models/relu5_1 models/relu4_1 models/relu3_1 models/relu2_1 models/relu1_1 --relu-targets relu5_1 --style-size 853  --alpha 0.2 --style-path /root/workspace/WCT-TF/samples/linen2.jpg --content-path /root/workspace/WCT-TF/outputexample/example.jpg --out-path /root/workspace/WCT-TF/outputexample\n",
      "python3 stylize.py --checkpoints models/relu5_1 models/relu4_1 models/relu3_1 models/relu2_1 models/relu1_1 --relu-targets relu5_1 --style-size 853  --alpha 0.3 --style-path /root/workspace/WCT-TF/samples/linen2.jpg --content-path /root/workspace/WCT-TF/outputexample/example.jpg --out-path /root/workspace/WCT-TF/outputexample\n",
      "python3 stylize.py --checkpoints models/relu5_1 models/relu4_1 models/relu3_1 models/relu2_1 models/relu1_1 --relu-targets relu5_1 --style-size 853  --alpha 0.4 --style-path /root/workspace/WCT-TF/samples/linen2.jpg --content-path /root/workspace/WCT-TF/outputexample/example.jpg --out-path /root/workspace/WCT-TF/outputexample\n"
     ]
    },
    {
     "name": "stdout",
     "output_type": "stream",
     "text": [
      "python3 stylize.py --checkpoints models/relu5_1 models/relu4_1 models/relu3_1 models/relu2_1 models/relu1_1 --relu-targets relu5_1 --style-size 853  --alpha 0.5 --style-path /root/workspace/WCT-TF/samples/linen2.jpg --content-path /root/workspace/WCT-TF/outputexample/example.jpg --out-path /root/workspace/WCT-TF/outputexample\n",
      "python3 stylize.py --checkpoints models/relu5_1 models/relu4_1 models/relu3_1 models/relu2_1 models/relu1_1 --relu-targets relu5_1 --style-size 853  --alpha 0.6 --style-path /root/workspace/WCT-TF/samples/linen2.jpg --content-path /root/workspace/WCT-TF/outputexample/example.jpg --out-path /root/workspace/WCT-TF/outputexample\n",
      "python3 stylize.py --checkpoints models/relu5_1 models/relu4_1 models/relu3_1 models/relu2_1 models/relu1_1 --relu-targets relu5_1 --style-size 853  --alpha 0.7 --style-path /root/workspace/WCT-TF/samples/linen2.jpg --content-path /root/workspace/WCT-TF/outputexample/example.jpg --out-path /root/workspace/WCT-TF/outputexample\n",
      "python3 stylize.py --checkpoints models/relu5_1 models/relu4_1 models/relu3_1 models/relu2_1 models/relu1_1 --relu-targets relu5_1 --style-size 853  --alpha 0.8 --style-path /root/workspace/WCT-TF/samples/linen2.jpg --content-path /root/workspace/WCT-TF/outputexample/example.jpg --out-path /root/workspace/WCT-TF/outputexample\n",
      "python3 stylize.py --checkpoints models/relu5_1 models/relu4_1 models/relu3_1 models/relu2_1 models/relu1_1 --relu-targets relu5_1 --style-size 853  --alpha 0.9 --style-path /root/workspace/WCT-TF/samples/linen2.jpg --content-path /root/workspace/WCT-TF/outputexample/example.jpg --out-path /root/workspace/WCT-TF/outputexample\n",
      "python3 stylize.py --checkpoints models/relu5_1 models/relu4_1 models/relu3_1 models/relu2_1 models/relu1_1 --relu-targets relu5_1 --style-size 853  --alpha 1.0 --style-path /root/workspace/WCT-TF/samples/linen2.jpg --content-path /root/workspace/WCT-TF/outputexample/example.jpg --out-path /root/workspace/WCT-TF/outputexample\n",
      "finished\n"
     ]
    }
   ],
   "source": [
    "for com2 in com2list:\n",
    "    for com5 in range(0,11,1):\n",
    "        com = com1+com2+com3+com4+str(float(com5)/10.0)+com6\n",
    "        os.system(com)\n",
    "        print(com)\n",
    "print(\"finished\")"
   ]
  },
  {
   "cell_type": "code",
   "execution_count": null,
   "metadata": {},
   "outputs": [],
   "source": []
  }
 ],
 "metadata": {
  "kernelspec": {
   "display_name": "Python 3",
   "language": "python",
   "name": "python3"
  },
  "language_info": {
   "codemirror_mode": {
    "name": "ipython",
    "version": 3
   },
   "file_extension": ".py",
   "mimetype": "text/x-python",
   "name": "python",
   "nbconvert_exporter": "python",
   "pygments_lexer": "ipython3",
   "version": "3.6.6"
  }
 },
 "nbformat": 4,
 "nbformat_minor": 2
}
